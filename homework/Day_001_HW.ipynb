{
 "cells": [
  {
   "cell_type": "code",
   "execution_count": null,
   "metadata": {},
   "outputs": [],
   "source": [
    "作業1:\n",
    "(1) 你選的這組資料為何重要?\n",
    "A:因為我們可以瞭解到不同的種族與性別普遍的學習狀況，才能夠因材施教。\n",
    "(2) 資料從何而來 (tips: 譬如提供者是誰、以什麼方式蒐集)?\n",
    "A: \n",
    "資料來源: StudentsPerformance.csv\n",
    "網址:http：//roycekimmons.com/tools/generated_data/exams\n",
    "提供者:SPScientist\n",
    "以什麼方式收集:實際某大學考試測驗資料\n",
    "(3) 蒐集而來的資料型態為何?\n",
    "A:結構化:總共八個欄位，包含數值、文字。\n",
    "(4)這組資料想解決的問題如何評估?\n",
    "A: 應該是MCC吧!\n"
   ]
  },
  {
   "cell_type": "code",
   "execution_count": null,
   "metadata": {},
   "outputs": [],
   "source": [
    "作業2:\n",
    "1. 核心問題為何 (tips：如何定義 「提升業績 & 你的假設」)\n",
    "A: 每月總載客人數提高\n",
    "假設:每月總載客人數與業績呈正向關係。\n",
    "2. 資料從何而來 (tips：哪些資料可能會對你想問的問題產生影響 & 資料如何蒐集)?\n",
    "A:\n",
    "問卷設計採用李克特量表:\n",
    "車子是否有安全認證(數值)、載客效率(數值)、聯絡方式便利性(數值)、接送時間點數值)、價錢(數值)、地點座標(文字)都會產生影響，可以透過網路問卷調查。\n",
    "3. 蒐集而來的資料型態為何?\n",
    "A:結構化:數值\n",
    "4. 你要回答的問題，其如何評估 (tips：你的假設如何驗證)?\n",
    "A:回歸分析\n"
   ]
  },
  {
   "cell_type": "code",
   "execution_count": null,
   "metadata": {},
   "outputs": [],
   "source": []
  }
 ],
 "metadata": {
  "kernelspec": {
   "display_name": "Python 3",
   "language": "python",
   "name": "python3"
  },
  "language_info": {
   "codemirror_mode": {
    "name": "ipython",
    "version": 3
   },
   "file_extension": ".py",
   "mimetype": "text/x-python",
   "name": "python",
   "nbconvert_exporter": "python",
   "pygments_lexer": "ipython3",
   "version": "3.6.5"
  }
 },
 "nbformat": 4,
 "nbformat_minor": 2
}
